{
 "cells": [
  {
   "cell_type": "code",
   "execution_count": 1,
   "id": "2c51efaa",
   "metadata": {},
   "outputs": [
    {
     "name": "stdout",
     "output_type": "stream",
     "text": [
      "scikit-learn==1.5.0\n"
     ]
    }
   ],
   "source": [
    "!pip freeze | grep scikit-learn"
   ]
  },
  {
   "cell_type": "code",
   "execution_count": 2,
   "id": "4acf73a0-51b5-4663-9bb8-8eb947863e17",
   "metadata": {},
   "outputs": [
    {
     "name": "stdout",
     "output_type": "stream",
     "text": [
      "Python 3.9.12\n"
     ]
    }
   ],
   "source": [
    "!python -V"
   ]
  },
  {
   "cell_type": "code",
   "execution_count": 1,
   "id": "0ef880a0",
   "metadata": {},
   "outputs": [],
   "source": [
    "import os\n",
    "import sys\n",
    "import pickle\n",
    "import pandas as pd"
   ]
  },
  {
   "cell_type": "code",
   "execution_count": 2,
   "id": "41c08294",
   "metadata": {},
   "outputs": [],
   "source": [
    "categorical = ['PULocationID', 'DOLocationID']\n",
    "def read_data(filename, year, month):\n",
    "    print (f'reading file - {filename}')\n",
    "    df = pd.read_parquet(filename)\n",
    "    \n",
    "    df['duration'] = df.tpep_dropoff_datetime - df.tpep_pickup_datetime\n",
    "    df['duration'] = df.duration.dt.total_seconds() / 60\n",
    "\n",
    "    df = df[(df.duration >= 1) & (df.duration <= 60)].copy()\n",
    "\n",
    "    df[categorical] = df[categorical].fillna(-1).astype('int').astype('str')\n",
    "    df['ride_id'] = f'{year:04d}/{month:02d}_' + df.index.astype('str')\n",
    "\n",
    "    return df\n",
    "\n",
    "def predict_data(dftmp, mdPth):\n",
    "    print (f\"predicting using model from {mdPth}\")\n",
    "    with open(mdPth, 'rb') as f_in:\n",
    "        dv, model = pickle.load(f_in)\n",
    "\n",
    "    dicts = dftmp[categorical].to_dict(orient='records')\n",
    "    X_val = dv.transform(dicts)\n",
    "    y_pred = model.predict(X_val)\n",
    "\n",
    "    prdStd = y_pred.std()\n",
    "    print (f\"Standard deviation of preds - {prdStd}\")\n",
    "    return y_pred\n",
    "\n",
    "def prep_result_df(dftmp, pred):\n",
    "    print (\"creating results dataframe...\")\n",
    "    df_res = pd.DataFrame({\n",
    "        'ride_id': dftmp['ride_id'],\n",
    "        'predicted_duration': pred\n",
    "    })\n",
    "    return df_res\n",
    "\n",
    "def write_result(dfRes, opPath):\n",
    "    print (f'writing results to - {opPath}')\n",
    "    dfRes.to_parquet(\n",
    "        opPath,\n",
    "        engine='pyarrow',\n",
    "        compression=None,\n",
    "        index=False\n",
    "    )\n",
    "    sz = os.path.getsize(opPath) / (1024*1024)\n",
    "    print (f'df_results file-size - {sz}')\n",
    "    "
   ]
  },
  {
   "cell_type": "code",
   "execution_count": 4,
   "id": "4854399a",
   "metadata": {},
   "outputs": [
    {
     "name": "stdout",
     "output_type": "stream",
     "text": [
      "reading file - https://d37ci6vzurychx.cloudfront.net/trip-data/yellow_tripdata_2023-03.parquet\n",
      "predicting using model from model.bin\n",
      "Standard deviation of preds - 6.247488852238703\n",
      "creating results dataframe...\n",
      "writing results to - output/yellow_2023-03.parquet\n",
      "df_results file-size - 65.46199798583984\n"
     ]
    }
   ],
   "source": [
    "def run():\n",
    "    year = 2023\n",
    "    month = 3\n",
    "    filename = f'https://d37ci6vzurychx.cloudfront.net/trip-data/yellow_tripdata_{year:04d}-{month:02d}.parquet'\n",
    "    modelPath = 'model.bin'\n",
    "    output_file = f'output/yellow_{year:04d}-{month:02d}.parquet'\n",
    "\n",
    "\n",
    "    df = read_data(filename, year, month)\n",
    "    pred_duration = predict_data(df, modelPath)\n",
    "    df_result = prep_result_df(df, pred_duration)\n",
    "    write_result(df_result, output_file)\n",
    "\n",
    "run()"
   ]
  },
  {
   "cell_type": "code",
   "execution_count": 9,
   "id": "74878ee7",
   "metadata": {},
   "outputs": [],
   "source": []
  },
  {
   "cell_type": "code",
   "execution_count": 17,
   "id": "c389aae0",
   "metadata": {},
   "outputs": [
    {
     "name": "stdout",
     "output_type": "stream",
     "text": [
      "df_results file-size - 65.46199798583984\n"
     ]
    }
   ],
   "source": [
    "import os\n"
   ]
  },
  {
   "cell_type": "code",
   "execution_count": null,
   "id": "98c51d54",
   "metadata": {},
   "outputs": [],
   "source": []
  }
 ],
 "metadata": {
  "kernelspec": {
   "display_name": "Python 3 (ipykernel)",
   "language": "python",
   "name": "python3"
  },
  "language_info": {
   "codemirror_mode": {
    "name": "ipython",
    "version": 3
   },
   "file_extension": ".py",
   "mimetype": "text/x-python",
   "name": "python",
   "nbconvert_exporter": "python",
   "pygments_lexer": "ipython3",
   "version": "3.9.12"
  }
 },
 "nbformat": 4,
 "nbformat_minor": 5
}
